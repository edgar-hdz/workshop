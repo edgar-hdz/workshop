{
 "cells": [
  {
   "cell_type": "code",
   "execution_count": 22,
   "metadata": {},
   "outputs": [],
   "source": [
    "import pandas as pd\n",
    "import numpy as np\n",
    "import matplotlib.pyplot as plt\n",
    "import requests\n",
    "from datetime import datetime, timedelta\n",
    "import time\n",
    "import calendar\n",
    "import re"
   ]
  },
  {
   "cell_type": "code",
   "execution_count": 61,
   "metadata": {},
   "outputs": [],
   "source": [
    "from IPython.display import Image\n",
    "from IPython.core.display import HTML"
   ]
  },
  {
   "cell_type": "code",
   "execution_count": 62,
   "metadata": {},
   "outputs": [
    {
     "data": {
      "text/html": [
       "<img src=\"https://raw.githubusercontent.com/edgar-hdz/workshop/master/start.png\" width=\"600\" height=\"600\"/>"
      ],
      "text/plain": [
       "<IPython.core.display.Image object>"
      ]
     },
     "execution_count": 62,
     "metadata": {},
     "output_type": "execute_result"
    }
   ],
   "source": [
    "Image(url= \"https://raw.githubusercontent.com/edgar-hdz/workshop/master/start.png\",width=600, height=600)"
   ]
  },
  {
   "cell_type": "markdown",
   "metadata": {},
   "source": [
    "### Example with `selenium`, tool used to interact with websites or webbased applications\n",
    "\n",
    "#### Before starting, first install the following stuff\n",
    "\n",
    "!pip install selenium\n",
    "\n",
    "!apt install chromium-chromedriver\n",
    "\n",
    "!apt-get update # to update ubuntu to correctly run apt install\n",
    "\n",
    "!apt install chromium-chromedriver\n",
    "\n",
    "!cp /usr/lib/chromium-browser/chromedriver /usr/bin\n",
    "\n",
    "import sys\n",
    "\n",
    "sys.path.insert(0,'/usr/lib/chromium-browser/chromedriver')\n",
    "\n",
    "\n",
    "\n",
    "Example, "
   ]
  },
  {
   "cell_type": "code",
   "execution_count": null,
   "metadata": {},
   "outputs": [],
   "source": [
    "# Copy paste them here below\n"
   ]
  },
  {
   "cell_type": "code",
   "execution_count": null,
   "metadata": {},
   "outputs": [],
   "source": [
    "from selenium import webdriver\n",
    "from selenium.webdriver.common.by import By\n",
    "from selenium.webdriver.support.ui import WebDriverWait\n",
    "from selenium.webdriver.support import expected_conditions as EC\n",
    "from selenium.webdriver.common.keys import Keys\n",
    "from selenium.common.exceptions import NoSuchElementException"
   ]
  },
  {
   "cell_type": "markdown",
   "metadata": {},
   "source": [
    "### Setting up google chrome"
   ]
  },
  {
   "cell_type": "code",
   "execution_count": null,
   "metadata": {},
   "outputs": [],
   "source": [
    "chrome_options = webdriver.ChromeOptions()\n",
    "chrome_options.add_argument('--headless')\n",
    "chrome_options.add_argument('--no-sandbox')\n",
    "chrome_options.add_argument('--disable-dev-shm-usage')"
   ]
  },
  {
   "cell_type": "markdown",
   "metadata": {},
   "source": [
    "### We open the website in a `headless` fashion, meaning that we will not be seing the website"
   ]
  },
  {
   "cell_type": "code",
   "execution_count": null,
   "metadata": {},
   "outputs": [],
   "source": [
    "browser = webdriver.Chrome('chromedriver',chrome_options=chrome_options)\n",
    "browser.get('http://www.google.com')"
   ]
  },
  {
   "cell_type": "code",
   "execution_count": 63,
   "metadata": {},
   "outputs": [
    {
     "data": {
      "text/html": [
       "<img src=\"https://raw.githubusercontent.com/edgar-hdz/workshop/master/elem.png\" width=\"800\" height=\"600\"/>"
      ],
      "text/plain": [
       "<IPython.core.display.Image object>"
      ]
     },
     "execution_count": 63,
     "metadata": {},
     "output_type": "execute_result"
    }
   ],
   "source": [
    "Image(url= \"https://raw.githubusercontent.com/edgar-hdz/workshop/master/elem.png\",width=800, height=600)"
   ]
  },
  {
   "cell_type": "markdown",
   "metadata": {},
   "source": [
    "We can select the following input item by taking the `name` from the xpath as shown on the image"
   ]
  },
  {
   "cell_type": "code",
   "execution_count": null,
   "metadata": {},
   "outputs": [],
   "source": [
    "search = browser.find_element_by_name('q')"
   ]
  },
  {
   "cell_type": "markdown",
   "metadata": {},
   "source": [
    "By doing so, we have created a link between this variable and the website, and now we can start interacting with it!"
   ]
  },
  {
   "cell_type": "code",
   "execution_count": null,
   "metadata": {},
   "outputs": [],
   "source": [
    "search.send_keys(\"mexico to zurich 18 december\") ## What to search in google\n",
    "search.send_keys(Keys.RETURN) # hit return after you enter search text\n",
    "print(\"Done\")"
   ]
  },
  {
   "cell_type": "code",
   "execution_count": null,
   "metadata": {},
   "outputs": [],
   "source": [
    "el = browser.find_element_by_xpath(\"//div[@id='rso']/div[2]\")\n",
    "print(\"Extracted text: {}\".format(el.text))"
   ]
  },
  {
   "cell_type": "markdown",
   "metadata": {},
   "source": [
    "Extract one word of interest using regex, for this example lets say we want the first quantity which is followed by a dollar sign $"
   ]
  },
  {
   "cell_type": "code",
   "execution_count": null,
   "metadata": {},
   "outputs": [],
   "source": [
    "example_regx = el.text\n",
    "re.search(r'[$]\\w.{1,4}', example_regx).group(0)"
   ]
  },
  {
   "cell_type": "markdown",
   "metadata": {},
   "source": [
    "____________\n",
    "## Nasdaq example using `Requests`\n",
    "\n",
    "1. Request data using NASDAQ api\n",
    "2. Define some functions to process the data\n",
    "3. Save it into an excel/DB\n",
    "4. Plot the data out"
   ]
  },
  {
   "cell_type": "markdown",
   "metadata": {},
   "source": [
    "We have the following `api's`, one containing historical data and the second containing real time data"
   ]
  },
  {
   "cell_type": "code",
   "execution_count": 13,
   "metadata": {},
   "outputs": [],
   "source": [
    "urls = {\n",
    "    'chart': \"https://api.nasdaq.com/api/quote/AMZN/chart?assetclass=stocks\",\n",
    "    'info': 'https://api.nasdaq.com/api/quote/AMZN/info?assetclass=stocks'\n",
    "}"
   ]
  },
  {
   "cell_type": "markdown",
   "metadata": {},
   "source": [
    "We call the `api` using `requests` and the `get` method. We then proceed to parse the data into a json format"
   ]
  },
  {
   "cell_type": "code",
   "execution_count": 14,
   "metadata": {},
   "outputs": [],
   "source": [
    "data = requests.get(urls['chart']).json()"
   ]
  },
  {
   "cell_type": "code",
   "execution_count": 32,
   "metadata": {},
   "outputs": [
    {
     "data": {
      "text/plain": [
       "{'data': {'symbol': 'AMZN',\n",
       "  'company': 'Amazon.com, Inc. Common Stock',\n",
       "  'timeAsOf': 'Jun 30, 2020 8:48 AM ET',\n",
       "  'isNasdaq100': True,\n",
       "  'lastSalePrice': '$2686.99',\n",
       "  'netChange': '+6.61',\n",
       "  'percentageChange': '0.25%',\n",
       "  'deltaIndicator': 'up',\n",
       "  'previousClose': '$2680.38',\n",
       "  'chart': [{'z': {'dateTime': '08:48:52 AM', 'value': '2686.99'},\n",
       "    'x': 1593506932000,\n",
       "    'y': 2686.99},\n",
       "   {'z': {'dateTime': '08:47:51 AM', 'value': '2686.89'},\n",
       "    'x': 1593506871000,\n",
       "    'y': 2686.89},\n",
       "   {'z': {'dateTime': '08:46:58 AM', 'value': '2685.51'},\n",
       "    'x': 1593506818000,\n",
       "    'y': 2685.51},\n",
       "   {'z': {'dateTime': '08:45:55 AM', 'value': '2684.21'},\n",
       "    'x': 1593506755000,\n",
       "    'y': 2684.21},\n",
       "   {'z': {'dateTime': '08:44:56 AM', 'value': '2685.00'},\n",
       "    'x': 1593506696000,\n",
       "    'y': 2685.0},\n",
       "   {'z': {'dateTime': '08:43:39 AM', 'value': '2685.00'},\n",
       "    'x': 1593506619000,\n",
       "    'y': 2685.0},\n",
       "   {'z': {'dateTime': '08:42:41 AM', 'value': '2684.00'},\n",
       "    'x': 1593506561000,\n",
       "    'y': 2684.0},\n",
       "   {'z': {'dateTime': '08:40:51 AM', 'value': '2683.50'},\n",
       "    'x': 1593506451000,\n",
       "    'y': 2683.5},\n",
       "   {'z': {'dateTime': '08:39:24 AM', 'value': '2683.00'},\n",
       "    'x': 1593506364000,\n",
       "    'y': 2683.0},\n",
       "   {'z': {'dateTime': '08:38:51 AM', 'value': '2686.99'},\n",
       "    'x': 1593506331000,\n",
       "    'y': 2686.99},\n",
       "   {'z': {'dateTime': '08:37:35 AM', 'value': '2685.51'},\n",
       "    'x': 1593506255000,\n",
       "    'y': 2685.51},\n",
       "   {'z': {'dateTime': '08:36:35 AM', 'value': '2684.00'},\n",
       "    'x': 1593506195000,\n",
       "    'y': 2684.0},\n",
       "   {'z': {'dateTime': '08:35:10 AM', 'value': '2683.30'},\n",
       "    'x': 1593506110000,\n",
       "    'y': 2683.3},\n",
       "   {'z': {'dateTime': '08:34:44 AM', 'value': '2684.21'},\n",
       "    'x': 1593506084000,\n",
       "    'y': 2684.21},\n",
       "   {'z': {'dateTime': '08:33:29 AM', 'value': '2684.34'},\n",
       "    'x': 1593506009000,\n",
       "    'y': 2684.34},\n",
       "   {'z': {'dateTime': '08:32:45 AM', 'value': '2683.21'},\n",
       "    'x': 1593505965000,\n",
       "    'y': 2683.21},\n",
       "   {'z': {'dateTime': '08:31:57 AM', 'value': '2685.84'},\n",
       "    'x': 1593505917000,\n",
       "    'y': 2685.84},\n",
       "   {'z': {'dateTime': '08:30:55 AM', 'value': '2684.09'},\n",
       "    'x': 1593505855000,\n",
       "    'y': 2684.09},\n",
       "   {'z': {'dateTime': '08:29:25 AM', 'value': '2685.51'},\n",
       "    'x': 1593505765000,\n",
       "    'y': 2685.51},\n",
       "   {'z': {'dateTime': '08:28:44 AM', 'value': '2688.00'},\n",
       "    'x': 1593505724000,\n",
       "    'y': 2688.0},\n",
       "   {'z': {'dateTime': '08:27:39 AM', 'value': '2687.77'},\n",
       "    'x': 1593505659000,\n",
       "    'y': 2687.77},\n",
       "   {'z': {'dateTime': '08:26:39 AM', 'value': '2688.00'},\n",
       "    'x': 1593505599000,\n",
       "    'y': 2688.0},\n",
       "   {'z': {'dateTime': '08:24:59 AM', 'value': '2688.00'},\n",
       "    'x': 1593505499000,\n",
       "    'y': 2688.0},\n",
       "   {'z': {'dateTime': '08:23:52 AM', 'value': '2686.00'},\n",
       "    'x': 1593505432000,\n",
       "    'y': 2686.0},\n",
       "   {'z': {'dateTime': '08:22:03 AM', 'value': '2685.75'},\n",
       "    'x': 1593505323000,\n",
       "    'y': 2685.75},\n",
       "   {'z': {'dateTime': '08:21:56 AM', 'value': '2685.25'},\n",
       "    'x': 1593505316000,\n",
       "    'y': 2685.25},\n",
       "   {'z': {'dateTime': '08:20:41 AM', 'value': '2685.50'},\n",
       "    'x': 1593505241000,\n",
       "    'y': 2685.5},\n",
       "   {'z': {'dateTime': '08:19:56 AM', 'value': '2685.25'},\n",
       "    'x': 1593505196000,\n",
       "    'y': 2685.25},\n",
       "   {'z': {'dateTime': '08:18:54 AM', 'value': '2685.00'},\n",
       "    'x': 1593505134000,\n",
       "    'y': 2685.0},\n",
       "   {'z': {'dateTime': '08:17:54 AM', 'value': '2686.25'},\n",
       "    'x': 1593505074000,\n",
       "    'y': 2686.25},\n",
       "   {'z': {'dateTime': '08:15:34 AM', 'value': '2685.00'},\n",
       "    'x': 1593504934000,\n",
       "    'y': 2685.0},\n",
       "   {'z': {'dateTime': '08:14:38 AM', 'value': '2686.00'},\n",
       "    'x': 1593504878000,\n",
       "    'y': 2686.0},\n",
       "   {'z': {'dateTime': '08:13:50 AM', 'value': '2686.00'},\n",
       "    'x': 1593504830000,\n",
       "    'y': 2686.0},\n",
       "   {'z': {'dateTime': '08:12:37 AM', 'value': '2686.00'},\n",
       "    'x': 1593504757000,\n",
       "    'y': 2686.0},\n",
       "   {'z': {'dateTime': '08:11:42 AM', 'value': '2687.4816'},\n",
       "    'x': 1593504702000,\n",
       "    'y': 2687.4816},\n",
       "   {'z': {'dateTime': '08:10:13 AM', 'value': '2687.9999'},\n",
       "    'x': 1593504613000,\n",
       "    'y': 2687.9999},\n",
       "   {'z': {'dateTime': '08:09:46 AM', 'value': '2686.75'},\n",
       "    'x': 1593504586000,\n",
       "    'y': 2686.75},\n",
       "   {'z': {'dateTime': '08:08:54 AM', 'value': '2688.44'},\n",
       "    'x': 1593504534000,\n",
       "    'y': 2688.44},\n",
       "   {'z': {'dateTime': '08:07:50 AM', 'value': '2688.00'},\n",
       "    'x': 1593504470000,\n",
       "    'y': 2688.0},\n",
       "   {'z': {'dateTime': '08:06:49 AM', 'value': '2688.99'},\n",
       "    'x': 1593504409000,\n",
       "    'y': 2688.99},\n",
       "   {'z': {'dateTime': '08:05:36 AM', 'value': '2687.00'},\n",
       "    'x': 1593504336000,\n",
       "    'y': 2687.0},\n",
       "   {'z': {'dateTime': '08:04:44 AM', 'value': '2690.00'},\n",
       "    'x': 1593504284000,\n",
       "    'y': 2690.0},\n",
       "   {'z': {'dateTime': '08:03:48 AM', 'value': '2689.00'},\n",
       "    'x': 1593504228000,\n",
       "    'y': 2689.0},\n",
       "   {'z': {'dateTime': '08:02:45 AM', 'value': '2690.00'},\n",
       "    'x': 1593504165000,\n",
       "    'y': 2690.0},\n",
       "   {'z': {'dateTime': '08:00:09 AM', 'value': '2688.00'},\n",
       "    'x': 1593504009000,\n",
       "    'y': 2688.0},\n",
       "   {'z': {'dateTime': '07:58:15 AM', 'value': '2686.51'},\n",
       "    'x': 1593503895000,\n",
       "    'y': 2686.51},\n",
       "   {'z': {'dateTime': '07:55:27 AM', 'value': '2688.10'},\n",
       "    'x': 1593503727000,\n",
       "    'y': 2688.1},\n",
       "   {'z': {'dateTime': '07:54:33 AM', 'value': '2688.10'},\n",
       "    'x': 1593503673000,\n",
       "    'y': 2688.1},\n",
       "   {'z': {'dateTime': '07:52:35 AM', 'value': '2687.99'},\n",
       "    'x': 1593503555000,\n",
       "    'y': 2687.99},\n",
       "   {'z': {'dateTime': '07:51:11 AM', 'value': '2686.51'},\n",
       "    'x': 1593503471000,\n",
       "    'y': 2686.51},\n",
       "   {'z': {'dateTime': '07:50:04 AM', 'value': '2688.00'},\n",
       "    'x': 1593503404000,\n",
       "    'y': 2688.0},\n",
       "   {'z': {'dateTime': '07:49:15 AM', 'value': '2688.06'},\n",
       "    'x': 1593503355000,\n",
       "    'y': 2688.06},\n",
       "   {'z': {'dateTime': '07:47:58 AM', 'value': '2691.74'},\n",
       "    'x': 1593503278000,\n",
       "    'y': 2691.74},\n",
       "   {'z': {'dateTime': '07:46:05 AM', 'value': '2690.19'},\n",
       "    'x': 1593503165000,\n",
       "    'y': 2690.19},\n",
       "   {'z': {'dateTime': '07:44:40 AM', 'value': '2691.00'},\n",
       "    'x': 1593503080000,\n",
       "    'y': 2691.0},\n",
       "   {'z': {'dateTime': '07:41:13 AM', 'value': '2691.88'},\n",
       "    'x': 1593502873000,\n",
       "    'y': 2691.88},\n",
       "   {'z': {'dateTime': '07:40:47 AM', 'value': '2691.90'},\n",
       "    'x': 1593502847000,\n",
       "    'y': 2691.9},\n",
       "   {'z': {'dateTime': '07:39:14 AM', 'value': '2693.89'},\n",
       "    'x': 1593502754000,\n",
       "    'y': 2693.89},\n",
       "   {'z': {'dateTime': '07:38:10 AM', 'value': '2694.30'},\n",
       "    'x': 1593502690000,\n",
       "    'y': 2694.3},\n",
       "   {'z': {'dateTime': '07:37:48 AM', 'value': '2694.59'},\n",
       "    'x': 1593502668000,\n",
       "    'y': 2694.59},\n",
       "   {'z': {'dateTime': '07:36:58 AM', 'value': '2694.59'},\n",
       "    'x': 1593502618000,\n",
       "    'y': 2694.59},\n",
       "   {'z': {'dateTime': '07:34:48 AM', 'value': '2694.79'},\n",
       "    'x': 1593502488000,\n",
       "    'y': 2694.79},\n",
       "   {'z': {'dateTime': '07:32:42 AM', 'value': '2694.89'},\n",
       "    'x': 1593502362000,\n",
       "    'y': 2694.89},\n",
       "   {'z': {'dateTime': '07:29:40 AM', 'value': '2693.55'},\n",
       "    'x': 1593502180000,\n",
       "    'y': 2693.55},\n",
       "   {'z': {'dateTime': '07:28:22 AM', 'value': '2690.98'},\n",
       "    'x': 1593502102000,\n",
       "    'y': 2690.98},\n",
       "   {'z': {'dateTime': '07:24:38 AM', 'value': '2690.41'},\n",
       "    'x': 1593501878000,\n",
       "    'y': 2690.41},\n",
       "   {'z': {'dateTime': '07:23:35 AM', 'value': '2692.00'},\n",
       "    'x': 1593501815000,\n",
       "    'y': 2692.0},\n",
       "   {'z': {'dateTime': '07:22:45 AM', 'value': '2693.00'},\n",
       "    'x': 1593501765000,\n",
       "    'y': 2693.0},\n",
       "   {'z': {'dateTime': '07:21:44 AM', 'value': '2693.53'},\n",
       "    'x': 1593501704000,\n",
       "    'y': 2693.53},\n",
       "   {'z': {'dateTime': '07:20:36 AM', 'value': '2693.94'},\n",
       "    'x': 1593501636000,\n",
       "    'y': 2693.94},\n",
       "   {'z': {'dateTime': '07:19:06 AM', 'value': '2692.73'},\n",
       "    'x': 1593501546000,\n",
       "    'y': 2692.73},\n",
       "   {'z': {'dateTime': '07:17:24 AM', 'value': '2693.79'},\n",
       "    'x': 1593501444000,\n",
       "    'y': 2693.79},\n",
       "   {'z': {'dateTime': '07:12:19 AM', 'value': '2687.00'},\n",
       "    'x': 1593501139000,\n",
       "    'y': 2687.0},\n",
       "   {'z': {'dateTime': '07:11:54 AM', 'value': '2689.00'},\n",
       "    'x': 1593501114000,\n",
       "    'y': 2689.0},\n",
       "   {'z': {'dateTime': '07:10:21 AM', 'value': '2690.57'},\n",
       "    'x': 1593501021000,\n",
       "    'y': 2690.57},\n",
       "   {'z': {'dateTime': '07:08:31 AM', 'value': '2691.06'},\n",
       "    'x': 1593500911000,\n",
       "    'y': 2691.06},\n",
       "   {'z': {'dateTime': '07:06:04 AM', 'value': '2693.22'},\n",
       "    'x': 1593500764000,\n",
       "    'y': 2693.22},\n",
       "   {'z': {'dateTime': '07:05:59 AM', 'value': '2695.00'},\n",
       "    'x': 1593500759000,\n",
       "    'y': 2695.0},\n",
       "   {'z': {'dateTime': '07:02:58 AM', 'value': '2694.00'},\n",
       "    'x': 1593500578000,\n",
       "    'y': 2694.0},\n",
       "   {'z': {'dateTime': '07:01:43 AM', 'value': '2697.00'},\n",
       "    'x': 1593500503000,\n",
       "    'y': 2697.0},\n",
       "   {'z': {'dateTime': '06:55:52 AM', 'value': '2698.54'},\n",
       "    'x': 1593500152000,\n",
       "    'y': 2698.54},\n",
       "   {'z': {'dateTime': '06:42:38 AM', 'value': '2699.00'},\n",
       "    'x': 1593499358000,\n",
       "    'y': 2699.0},\n",
       "   {'z': {'dateTime': '06:32:15 AM', 'value': '2697.60'},\n",
       "    'x': 1593498735000,\n",
       "    'y': 2697.6},\n",
       "   {'z': {'dateTime': '06:12:53 AM', 'value': '2698.10'},\n",
       "    'x': 1593497573000,\n",
       "    'y': 2698.1},\n",
       "   {'z': {'dateTime': '05:25:42 AM', 'value': '2694.47'},\n",
       "    'x': 1593494742000,\n",
       "    'y': 2694.47},\n",
       "   {'z': {'dateTime': '04:44:10 AM', 'value': '2691.65'},\n",
       "    'x': 1593492250000,\n",
       "    'y': 2691.65},\n",
       "   {'z': {'dateTime': '04:00:28 AM', 'value': '2694.18'},\n",
       "    'x': 1593489628000,\n",
       "    'y': 2694.18}],\n",
       "  'events': None},\n",
       " 'message': None,\n",
       " 'status': {'rCode': 200, 'bCodeMessage': None, 'developerMessage': None}}"
      ]
     },
     "execution_count": 32,
     "metadata": {},
     "output_type": "execute_result"
    }
   ],
   "source": [
    "# Plot data\n",
    "data"
   ]
  },
  {
   "cell_type": "code",
   "execution_count": 17,
   "metadata": {},
   "outputs": [],
   "source": [
    "all_data = []\n",
    "for item in data['data']['chart']:\n",
    "    ts = item.get('x', 0)\n",
    "    value = item.get('y', 0)\n",
    "    all_data.append((ts, value))\n",
    "    \n",
    "# Put everything  into a dataframe\n",
    "df = pd.DataFrame(all_data, columns=['timestamp', 'value'])"
   ]
  },
  {
   "cell_type": "code",
   "execution_count": 36,
   "metadata": {
    "scrolled": true
   },
   "outputs": [
    {
     "data": {
      "image/png": "[encoded data removed]",
      "text/plain": [
       "<Figure size 720x360 with 1 Axes>"
      ]
     },
     "metadata": {
      "needs_background": "light"
     },
     "output_type": "display_data"
    }
   ],
   "source": [
    "fig, ax = plt.subplots(figsize=(10, 5))\n",
    "\n",
    "ax.plot(df.timestamp, df.value, linewidth=4, alpha=0.85, color='indianred')\n",
    "ax.plot(df.timestamp, df.value, linewidth=1, alpha=0.85, color='black')\n",
    "ax.grid(True)\n",
    "dates = [datetime.fromtimestamp(x/1000) for x in ax.get_xticks()]\n",
    "dates = [datetime.strftime(x, '%H:%M:%S') for x in dates]\n",
    "ax.set_ylabel('Value [$]', fontsize=14)\n",
    "ax.tick_params(axis='both', labelsize=13)\n",
    "ax.set_xticklabels(dates)\n",
    "plt.show()"
   ]
  },
  {
   "cell_type": "markdown",
   "metadata": {},
   "source": [
    "The second url `info` is the api call for real time data of the selected stock. If we call the API we get the following response"
   ]
  },
  {
   "cell_type": "code",
   "execution_count": 37,
   "metadata": {},
   "outputs": [],
   "source": [
    "res = requests.get(urls['info']).json()"
   ]
  },
  {
   "cell_type": "code",
   "execution_count": 38,
   "metadata": {},
   "outputs": [
    {
     "data": {
      "text/plain": [
       "{'data': {'symbol': 'AMZN',\n",
       "  'companyName': 'Amazon.com, Inc. Common Stock',\n",
       "  'stockType': 'Common Stock',\n",
       "  'exchange': 'NASDAQ-GS',\n",
       "  'isNasdaqListed': True,\n",
       "  'isNasdaq100': False,\n",
       "  'isHeld': False,\n",
       "  'primaryData': {'lastSalePrice': '$2688.25',\n",
       "   'netChange': '7.87',\n",
       "   'percentageChange': '0.29%',\n",
       "   'deltaIndicator': 'up',\n",
       "   'lastTradeTimestamp': 'DATA AS OF Jun 30, 2020 9:00 AM ET - PRE-MARKET',\n",
       "   'isRealTime': True},\n",
       "  'secondaryData': {'lastSalePrice': '$2680.38',\n",
       "   'netChange': '12.49',\n",
       "   'percentageChange': '0.46%',\n",
       "   'deltaIndicator': 'down',\n",
       "   'lastTradeTimestamp': 'CLOSED AT 4:00 PM ET ON Jun 29, 2020',\n",
       "   'isRealTime': False},\n",
       "  'keyStats': {'Volume': {'label': 'Volume', 'value': '5,029'},\n",
       "   'PreviousClose': {'label': 'Previous Close', 'value': '$2,680.38'},\n",
       "   'OpenPrice': {'label': 'Open', 'value': '$2,690.00'},\n",
       "   'MarketCap': {'label': 'Market Cap', 'value': '1,336,909,300,652'}},\n",
       "  'marketStatus': 'Pre Market',\n",
       "  'assetClass': 'STOCKS'},\n",
       " 'message': None,\n",
       " 'status': {'rCode': 200, 'bCodeMessage': None, 'developerMessage': None}}"
      ]
     },
     "execution_count": 38,
     "metadata": {},
     "output_type": "execute_result"
    }
   ],
   "source": [
    "res"
   ]
  },
  {
   "cell_type": "markdown",
   "metadata": {},
   "source": [
    "______\n",
    "Which contains information from the time in which we run the query. If we would like to make this step more efficient, we could do the following and define a function to query the data for us"
   ]
  },
  {
   "cell_type": "code",
   "execution_count": 48,
   "metadata": {},
   "outputs": [],
   "source": [
    "def get_data_stock(item):\n",
    "    \"\"\"\n",
    "    Get data from stock item\n",
    "   \n",
    "    :param item: http response -> dictionary\n",
    "    :return: tupple containing data of interest\n",
    "    \"\"\"\n",
    "   \n",
    "    primary_data = ['lastSalePrice', 'netChange', 'percentageChange', 'deltaIndicator']\n",
    "    other_cols = ['symbol', 'volume', 'timestamp']\n",
    "    column_names = primary_data + other_cols\n",
    "    try:\n",
    "        symbol = item.get('symbol')\n",
    "        volume = item.get('keyStats').get('Volume').get('value')\n",
    "        prim_data = [item.get('primaryData').get(x) for x in primary_data]\n",
    "        timestamp = datetime.now().timestamp()\n",
    "       \n",
    "        prim_data.append(symbol)\n",
    "        prim_data.append(volume)\n",
    "        prim_data.append(timestamp)\n",
    "        \n",
    "        df = pd.DataFrame([prim_data], columns=column_names)\n",
    "        df['lastSalePrice'] = float(df['lastSalePrice'].values[0].replace('$', ''))\n",
    "\n",
    "        \n",
    "        return df\n",
    "   \n",
    "    except Exception as e:\n",
    "        print(str(e))\n",
    "        return pd.DataFrame() "
   ]
  },
  {
   "cell_type": "markdown",
   "metadata": {},
   "source": [
    "Using this function with our requested data"
   ]
  },
  {
   "cell_type": "code",
   "execution_count": 50,
   "metadata": {},
   "outputs": [
    {
     "data": {
      "text/html": [
       "<div>\n",
       "<style scoped>\n",
       "    .dataframe tbody tr th:only-of-type {\n",
       "        vertical-align: middle;\n",
       "    }\n",
       "\n",
       "    .dataframe tbody tr th {\n",
       "        vertical-align: top;\n",
       "    }\n",
       "\n",
       "    .dataframe thead th {\n",
       "        text-align: right;\n",
       "    }\n",
       "</style>\n",
       "<table border=\"1\" class=\"dataframe\">\n",
       "  <thead>\n",
       "    <tr style=\"text-align: right;\">\n",
       "      <th></th>\n",
       "      <th>lastSalePrice</th>\n",
       "      <th>netChange</th>\n",
       "      <th>percentageChange</th>\n",
       "      <th>deltaIndicator</th>\n",
       "      <th>symbol</th>\n",
       "      <th>volume</th>\n",
       "      <th>timestamp</th>\n",
       "    </tr>\n",
       "  </thead>\n",
       "  <tbody>\n",
       "    <tr>\n",
       "      <th>0</th>\n",
       "      <td>2688.25</td>\n",
       "      <td>7.87</td>\n",
       "      <td>0.29%</td>\n",
       "      <td>up</td>\n",
       "      <td>AMZN</td>\n",
       "      <td>5,029</td>\n",
       "      <td>1.593523e+09</td>\n",
       "    </tr>\n",
       "  </tbody>\n",
       "</table>\n",
       "</div>"
      ],
      "text/plain": [
       "   lastSalePrice netChange percentageChange deltaIndicator symbol volume  \\\n",
       "0        2688.25      7.87            0.29%             up   AMZN  5,029   \n",
       "\n",
       "      timestamp  \n",
       "0  1.593523e+09  "
      ]
     },
     "execution_count": 50,
     "metadata": {},
     "output_type": "execute_result"
    }
   ],
   "source": [
    "df = get_data_stock(res['data'])\n",
    "df"
   ]
  },
  {
   "cell_type": "markdown",
   "metadata": {},
   "source": [
    "Making a secondary function which will doing the query provided the url, and update the `DataFrame`"
   ]
  },
  {
   "cell_type": "code",
   "execution_count": 51,
   "metadata": {},
   "outputs": [],
   "source": [
    "def do_query(url):\n",
    "   \n",
    "    global df\n",
    "   \n",
    "    \"\"\"\n",
    "    Does a query to url\n",
    "   \n",
    "    :param url: url to do http request to NASDAQ\n",
    "    \"\"\"\n",
    "    res = requests.get(url).json()\n",
    "    df_temp = get_data_stock(res['data'])\n",
    "    df = pd.concat([df, df_temp]).sort_values(by='timestamp').reset_index().drop(columns='index')\n",
    "\n",
    "    return df"
   ]
  },
  {
   "cell_type": "markdown",
   "metadata": {},
   "source": [
    "Running `do_query()` and plotting the graph"
   ]
  },
  {
   "cell_type": "code",
   "execution_count": 64,
   "metadata": {
    "scrolled": true
   },
   "outputs": [
    {
     "data": {
      "image/png": "[encoded data removed]",
      "text/plain": [
       "<Figure size 720x360 with 1 Axes>"
      ]
     },
     "metadata": {
      "needs_background": "light"
     },
     "output_type": "display_data"
    }
   ],
   "source": [
    "do_query(urls['info'])\n",
    "fig, ax = plt.subplots(figsize=(10, 5))\n",
    "\n",
    "ax.plot(df.timestamp, df.lastSalePrice, linewidth=2, alpha=0.85, color='indianred')\n",
    "ax.scatter(df.timestamp, df.lastSalePrice, linewidth=1, alpha=0.85, color='black')\n",
    "ax.grid(True)\n",
    "dates = [datetime.fromtimestamp(x/1000) for x in ax.get_xticks()]\n",
    "dates = [datetime.strftime(x, '%H:%M:%S') for x in dates]\n",
    "ax.set_ylabel('Value [$]', fontsize=14)\n",
    "ax.tick_params(axis='both', labelsize=13)\n",
    "ax.set_xticklabels(dates)\n",
    "plt.show()"
   ]
  },
  {
   "cell_type": "code",
   "execution_count": null,
   "metadata": {},
   "outputs": [],
   "source": []
  },
  {
   "cell_type": "code",
   "execution_count": null,
   "metadata": {},
   "outputs": [],
   "source": []
  },
  {
   "cell_type": "code",
   "execution_count": null,
   "metadata": {},
   "outputs": [],
   "source": []
  },
  {
   "cell_type": "code",
   "execution_count": null,
   "metadata": {},
   "outputs": [],
   "source": []
  },
  {
   "cell_type": "code",
   "execution_count": null,
   "metadata": {},
   "outputs": [],
   "source": []
  },
  {
   "cell_type": "code",
   "execution_count": null,
   "metadata": {},
   "outputs": [],
   "source": []
  }
 ],
 "metadata": {
  "kernelspec": {
   "display_name": "Python 3",
   "language": "python",
   "name": "python3"
  },
  "language_info": {
   "codemirror_mode": {
    "name": "ipython",
    "version": 3
   },
   "file_extension": ".py",
   "mimetype": "text/x-python",
   "name": "python",
   "nbconvert_exporter": "python",
   "pygments_lexer": "ipython3",
   "version": "3.7.0"
  }
 },
 "nbformat": 4,
 "nbformat_minor": 2
}
