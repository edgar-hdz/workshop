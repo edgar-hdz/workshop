{
 "cells": [
  {
   "cell_type": "code",
   "execution_count": 1,
   "metadata": {},
   "outputs": [],
   "source": [
    "from IPython.display import Image\n",
    "from IPython.core.display import HTML "
   ]
  },
  {
   "cell_type": "markdown",
   "metadata": {},
   "source": [
    "### SDD : \n",
    "\n",
    "There's an SME who wants to have a certain amount of flight details from a list of dates. She/he wants to use this data, which will be used in a subsequent task, to be able to reduce business travel prices done by UBS workers"
   ]
  },
  {
   "cell_type": "markdown",
   "metadata": {},
   "source": [
    "Go to `www.google.com`. Once there, you should look for the list of dates given by the SME. "
   ]
  },
  {
   "cell_type": "code",
   "execution_count": 2,
   "metadata": {},
   "outputs": [
    {
     "data": {
      "text/html": [
       "<img src=\"https://raw.githubusercontent.com/edgar-hdz/workshop/master/start.png\" width=\"600\" height=\"600\"/>"
      ],
      "text/plain": [
       "<IPython.core.display.Image object>"
      ]
     },
     "execution_count": 2,
     "metadata": {},
     "output_type": "execute_result"
    }
   ],
   "source": [
    "Image(url= \"https://raw.githubusercontent.com/edgar-hdz/workshop/master/start.png\",width=600, height=600)"
   ]
  },
  {
   "cell_type": "markdown",
   "metadata": {},
   "source": [
    "Search for all the dates for the given destination as indicated below. \n",
    "\n",
    "The data we are interested is highlited in yellow. These are the `Flight duration` and `Flight price`. You should extract this information, and indicate the lowest price and lowes duration from the extracted list. The price and duration will then further be used for a subsequent task (not in the scope of this exercise)."
   ]
  },
  {
   "cell_type": "code",
   "execution_count": 3,
   "metadata": {},
   "outputs": [
    {
     "data": {
      "text/html": [
       "<img src=\"https://raw.githubusercontent.com/edgar-hdz/workshop/master/search.png\" width=\"600\" height=\"600\"/>"
      ],
      "text/plain": [
       "<IPython.core.display.Image object>"
      ]
     },
     "execution_count": 3,
     "metadata": {},
     "output_type": "execute_result"
    }
   ],
   "source": [
    "Image(url= \"https://raw.githubusercontent.com/edgar-hdz/workshop/master/search.png\",width=600, height=600)"
   ]
  },
  {
   "cell_type": "markdown",
   "metadata": {},
   "source": [
    "_______________\n",
    "### Before starting, first install the following stuff"
   ]
  },
  {
   "cell_type": "markdown",
   "metadata": {},
   "source": [
    "`!pip install selenium`\n",
    "\n",
    "`!apt install chromium-chromedriver`\n",
    "\n",
    "`!apt-get update # to update ubuntu to correctly run apt install`\n",
    "\n",
    "`!apt install chromium-chromedriver`\n",
    "\n",
    "`!cp /usr/lib/chromium-browser/chromedriver /usr/bin`\n",
    "\n",
    "`import sys`\n",
    "\n",
    "`sys.path.insert(0,'/usr/lib/chromium-browser/chromedriver')`"
   ]
  },
  {
   "cell_type": "markdown",
   "metadata": {},
   "source": [
    "### Importing some packages\n",
    " Pretty much setting everything up so that we can work similarly as what we would with AA"
   ]
  },
  {
   "cell_type": "code",
   "execution_count": null,
   "metadata": {},
   "outputs": [],
   "source": [
    "import datetime\n",
    "import time\n",
    "import calendar\n",
    "import re\n",
    "import pandas as pd\n",
    "import numpy as np"
   ]
  },
  {
   "cell_type": "code",
   "execution_count": null,
   "metadata": {},
   "outputs": [],
   "source": [
    "from selenium import webdriver\n",
    "from selenium.webdriver.common.by import By\n",
    "from selenium.webdriver.support.ui import WebDriverWait\n",
    "from selenium.webdriver.support import expected_conditions as EC\n",
    "from selenium.webdriver.common.keys import Keys"
   ]
  },
  {
   "cell_type": "markdown",
   "metadata": {},
   "source": [
    "### Setting up google chrome to work with this script"
   ]
  },
  {
   "cell_type": "code",
   "execution_count": null,
   "metadata": {},
   "outputs": [],
   "source": [
    "chrome_options = webdriver.ChromeOptions()\n",
    "chrome_options.add_argument('--headless')\n",
    "chrome_options.add_argument('--no-sandbox')\n",
    "chrome_options.add_argument('--disable-dev-shm-usage')"
   ]
  },
  {
   "cell_type": "markdown",
   "metadata": {},
   "source": [
    "### Lets first check if we have a working connection with google chrome\n",
    "We start by opening the website"
   ]
  },
  {
   "cell_type": "code",
   "execution_count": null,
   "metadata": {},
   "outputs": [],
   "source": [
    "browser = webdriver.Chrome('chromedriver',chrome_options=chrome_options)\n",
    "browser.get('http://www.google.com')"
   ]
  },
  {
   "cell_type": "markdown",
   "metadata": {},
   "source": [
    "Next, we select an element, based in the elements name. We see that information from the expath of the element"
   ]
  },
  {
   "cell_type": "code",
   "execution_count": 6,
   "metadata": {},
   "outputs": [
    {
     "data": {
      "text/html": [
       "<img src=\"https://raw.githubusercontent.com/edgar-hdz/workshop/master/elem.png\" width=\"800\" height=\"600\"/>"
      ],
      "text/plain": [
       "<IPython.core.display.Image object>"
      ]
     },
     "execution_count": 6,
     "metadata": {},
     "output_type": "execute_result"
    }
   ],
   "source": [
    "Image(url= \"https://raw.githubusercontent.com/edgar-hdz/workshop/master/elem.png\",width=800, height=600)"
   ]
  },
  {
   "cell_type": "code",
   "execution_count": null,
   "metadata": {},
   "outputs": [],
   "source": [
    "search = browser.find_element_by_name('q')"
   ]
  },
  {
   "cell_type": "markdown",
   "metadata": {},
   "source": [
    "By doing so, we have created a link between this variable and the website, and now we can start interacting with it!"
   ]
  },
  {
   "cell_type": "code",
   "execution_count": null,
   "metadata": {},
   "outputs": [],
   "source": [
    "search.send_keys(\"mexico to zurich 18 december\") ## What to search in google\n",
    "search.send_keys(Keys.RETURN) # hit return after you enter search text\n",
    "print(\"Done\")"
   ]
  },
  {
   "cell_type": "code",
   "execution_count": null,
   "metadata": {},
   "outputs": [],
   "source": [
    "el = browser.find_element_by_xpath(\"//div[@id='search']//div[@id='flun']\")\n",
    "print(\"Extracted text: {}\".format(el.text))"
   ]
  },
  {
   "cell_type": "markdown",
   "metadata": {},
   "source": [
    "Extract one word of interest using regex, for this example lets say we want the first quantity which is followed by a dollar sign `$`"
   ]
  },
  {
   "cell_type": "code",
   "execution_count": null,
   "metadata": {},
   "outputs": [],
   "source": [
    "example_regx = el.text"
   ]
  },
  {
   "cell_type": "code",
   "execution_count": null,
   "metadata": {},
   "outputs": [],
   "source": [
    "re.search(r'[$]\\w.{1,4}', example_regx).group(0)"
   ]
  },
  {
   "cell_type": "markdown",
   "metadata": {},
   "source": [
    "### Try it out with something different\n",
    "Open a different website, search for the `XPath` linked to the item to interact with, or to extract data from. Get some data from there in the form of text, and try using `regex` to match a desired word."
   ]
  },
  {
   "cell_type": "code",
   "execution_count": null,
   "metadata": {},
   "outputs": [],
   "source": [
    "browser = webdriver.Chrome('chromedriver',chrome_options=chrome_options)"
   ]
  },
  {
   "cell_type": "code",
   "execution_count": null,
   "metadata": {},
   "outputs": [],
   "source": [
    "website_to_go = \"http://\" ## Put the website you want here\n",
    "browser.get(website_to_go)"
   ]
  },
  {
   "cell_type": "markdown",
   "metadata": {},
   "source": [
    "#### Start interacting with the website\n",
    "The easiest thing to do, would be to go to a website which has already some information that can be extracted. \n",
    "\n",
    "A second option would we, to navigate using some tools, by first selecting an element in the website\n",
    "\n",
    "[Some useful information about how to click buttons or extract text](https://towardsdatascience.com/controlling-the-web-with-python-6fceb22c5f08)\n"
   ]
  },
  {
   "cell_type": "code",
   "execution_count": null,
   "metadata": {},
   "outputs": [],
   "source": [
    "##Spaces for you to work here"
   ]
  },
  {
   "cell_type": "code",
   "execution_count": null,
   "metadata": {},
   "outputs": [],
   "source": []
  },
  {
   "cell_type": "code",
   "execution_count": null,
   "metadata": {},
   "outputs": [],
   "source": []
  },
  {
   "cell_type": "markdown",
   "metadata": {},
   "source": [
    "### Defining our \"Tasks/Functions\""
   ]
  },
  {
   "cell_type": "code",
   "execution_count": null,
   "metadata": {},
   "outputs": [],
   "source": [
    "def flight_details(departure, destination, date, num_days, klass):\n",
    "    date_1 = datetime.datetime.strptime(date, \"%d/%m/%y\")\n",
    "    month1 = calendar.month_name[date_1.month]\n",
    "    end_date = date_1 + datetime.timedelta(days=num_days)\n",
    "    month2 = calendar.month_name[end_date.month]\n",
    "    start_day = date_1.day\n",
    "    end_day = end_date.day\n",
    "\n",
    "    return \"{} to {} from {} {} to {} {} {}\".format(departure, destination, start_day,month1,end_day, month2,klass)"
   ]
  },
  {
   "cell_type": "markdown",
   "metadata": {},
   "source": [
    "### Testing the function we created\n",
    "Try it out with different destinations, departure dates, and duration of stay"
   ]
  },
  {
   "cell_type": "code",
   "execution_count": null,
   "metadata": {},
   "outputs": [],
   "source": [
    "flight_details(\"Zurich\", \"Mexico City\", \"5/10/19\",15,\"\")"
   ]
  },
  {
   "cell_type": "code",
   "execution_count": null,
   "metadata": {},
   "outputs": [],
   "source": [
    "list_of_days = [\"5/10/19\",\"5/11/19\",\"5/12/19\"]\n",
    "list_prices = []"
   ]
  },
  {
   "cell_type": "code",
   "execution_count": null,
   "metadata": {},
   "outputs": [],
   "source": [
    "for something in list_of_days:\n",
    "    print(\"Date is: {}\".format(something))"
   ]
  },
  {
   "cell_type": "code",
   "execution_count": null,
   "metadata": {},
   "outputs": [],
   "source": [
    "browser = webdriver.Chrome('chromedriver',chrome_options=chrome_options)\n",
    "browser.get('http://www.google.com')"
   ]
  },
  {
   "cell_type": "code",
   "execution_count": null,
   "metadata": {},
   "outputs": [],
   "source": [
    "for ldays in list_of_days:\n",
    "    Mainframe = browser.find_element_by_xpath(\"//input[@class='gLFyf gsfi']\")\n",
    "    Mainframe.clear()\n",
    "    Mainframe.send_keys(flight_details(\"Zurich\", \"Mexico City\", ldays,15,\"Business\"))\n",
    "    print(\"Found\")\n",
    "    Mainframe.send_keys(Keys.ENTER)\n",
    "    WebDriverWait(browser,10000).until(EC.visibility_of_element_located((By.TAG_NAME,'body')))\n",
    "    Mainframe = browser.find_element_by_xpath(\"//div[cite[text()[contains(.,'www.google.com/flights')]]]//following-sibling::div[5]\")\n",
    "    print(\"Found flight details\")\n",
    "    list_prices.append(Mainframe.text)\n",
    "\n",
    "browser.close()"
   ]
  },
  {
   "cell_type": "markdown",
   "metadata": {},
   "source": [
    "Checking first how does the extraced data looks like. It requires some preprocessing indeed!"
   ]
  },
  {
   "cell_type": "code",
   "execution_count": null,
   "metadata": {},
   "outputs": [],
   "source": [
    "list_prices"
   ]
  },
  {
   "cell_type": "markdown",
   "metadata": {},
   "source": [
    "Spliting the string into sentences"
   ]
  },
  {
   "cell_type": "code",
   "execution_count": null,
   "metadata": {},
   "outputs": [],
   "source": [
    "a = list_prices[0]\n",
    "sentence = [p for p in a.split('\\n') if p]\n",
    "sentence"
   ]
  },
  {
   "cell_type": "markdown",
   "metadata": {},
   "source": [
    "### Collect the data we are interested on\n",
    "For this particular example, the `Flight duration`, `Price`, `Dates`, `Duration of stay`. From the variable `sentence` above, we could see that the data of interest is embedded inside a sentece. Meaning that we require some tools in order to get them all!"
   ]
  },
  {
   "cell_type": "markdown",
   "metadata": {},
   "source": [
    "From the variable named `sentence`"
   ]
  },
  {
   "cell_type": "code",
   "execution_count": null,
   "metadata": {},
   "outputs": [],
   "source": [
    "sentence"
   ]
  },
  {
   "cell_type": "markdown",
   "metadata": {},
   "source": [
    "We can already notice a certain structure we can take advantage of, this is that we always have the `Flight duration` followed by the `Flight price`  in the subsequent sentence. \n",
    "\n",
    "We can use the following regular expressions (`regex`), to match for the data we are looking for. We use the following, \n",
    "\n",
    " 1. To catch the `Flight price` we can use `\\d(.*)\\d`\n",
    " 2. For `Flight duration` we can use `\\W(.*)\\d`\n",
    " \n",
    "[Click link here \\d(.*)\\d explanation](https://regex101.com/r/kjXHIC/1/)\n",
    "\n",
    "[Click here for \\W(.*)\\d explanation](https://regex101.com/r/S5Z3F8/1)\n",
    "\n",
    "\n",
    "Bellow is an example of matching the `Flight price` and `Flight duration` from the first two sentences"
   ]
  },
  {
   "cell_type": "code",
   "execution_count": null,
   "metadata": {},
   "outputs": [],
   "source": [
    "print('Matching time: {}'.format(re.search(r'\\d(.*)\\d', sentence[0]).group(0)))\n",
    "print('Matching flight price: {}'.format(re.search(r'\\W(.*)\\d', sentence[1]).group(0)))"
   ]
  },
  {
   "cell_type": "code",
   "execution_count": null,
   "metadata": {},
   "outputs": [],
   "source": [
    "frame = []\n",
    "for k in range(len(list_of_days)):\n",
    "    i = 0\n",
    "\n",
    "    time_list,price_list = [],[]\n",
    "\n",
    "    for sent in list_prices[k].split(\"\\n\"):\n",
    "        #print(\"{}: \".format(i)+ sent)\n",
    "        if sent == sentence[-1]:\n",
    "            break\n",
    "        if i%2==0:\n",
    "            a = re.search(r'\\d(.*)\\d', sent).group(0)\n",
    "            time_list.append(a)\n",
    "            #print(a)\n",
    "        else:\n",
    "            a = re.search(r'\\W(.*)\\d', sent).group(0)\n",
    "            price_list.append(a)\n",
    "            #print(a)\n",
    "        i+=1\n",
    "        if i == 10:\n",
    "            break\n",
    "\n",
    "    dates = [list_of_days[k] for x in time_list]\n",
    "    num_of_days = [17 for x in time_list]\n",
    "    #vpn_list = [\"{}\".format(vpn_country) for x in time_list]\n",
    "\n",
    "    #df = {'price': price_list, 'duration': time_list,'dates':dates,'num_of_days':num_of_days,'VPN':vpn_list}\n",
    "    df = {'price': price_list, 'duration': time_list,'dates':dates,'num_of_days':num_of_days}\n",
    "    frame.append(pd.DataFrame(df))"
   ]
  },
  {
   "cell_type": "code",
   "execution_count": null,
   "metadata": {},
   "outputs": [],
   "source": [
    "df_save = pd.concat(frame).reset_index().drop(columns=\"index\")\n",
    "df_save.head(10)\n",
    "#df_save.to_csv(\"df_{}.csv\".format(vpn_country))"
   ]
  },
  {
   "cell_type": "code",
   "execution_count": null,
   "metadata": {},
   "outputs": [],
   "source": [
    "df_save['price_2'] = [np.float(x.replace(\"$\",\"\").replace(\",\",\"\")) for x in df_save.price]\n",
    "df_save['duration_2'] = [(np.float(y[0])+np.float(y[1])/60) for y in [{\"d\" in x:x.split(\"d\"),\"h\" in x:x.split(\"h\")}.get(True,0) for x in df_save.duration]]"
   ]
  },
  {
   "cell_type": "code",
   "execution_count": null,
   "metadata": {},
   "outputs": [],
   "source": [
    "df_save"
   ]
  },
  {
   "cell_type": "code",
   "execution_count": null,
   "metadata": {},
   "outputs": [],
   "source": []
  },
  {
   "cell_type": "code",
   "execution_count": null,
   "metadata": {},
   "outputs": [],
   "source": []
  }
 ],
 "metadata": {
  "kernelspec": {
   "display_name": "Python 3",
   "language": "python",
   "name": "python3"
  },
  "language_info": {
   "codemirror_mode": {
    "name": "ipython",
    "version": 3
   },
   "file_extension": ".py",
   "mimetype": "text/x-python",
   "name": "python",
   "nbconvert_exporter": "python",
   "pygments_lexer": "ipython3",
   "version": "3.6.0"
  }
 },
 "nbformat": 4,
 "nbformat_minor": 2
}
