{
 "cells": [
  {
   "cell_type": "markdown",
   "metadata": {},
   "source": [
    "### If, if else, then "
   ]
  },
  {
   "cell_type": "markdown",
   "metadata": {},
   "source": [
    "Input negative or positive integer number"
   ]
  },
  {
   "cell_type": "code",
   "execution_count": null,
   "metadata": {},
   "outputs": [],
   "source": [
    "num = int(input(\"Please enter a number: \")) # What we give as an input\n",
    "\n",
    "if num > 0:\n",
    "    print(num, \"is a positive number.\")\n",
    "elif num < 0:\n",
    "    print(num, \"is a negative number\")\n",
    "    \n",
    "print(\"This is always printed.\")"
   ]
  },
  {
   "cell_type": "markdown",
   "metadata": {},
   "source": [
    "Input any real number"
   ]
  },
  {
   "cell_type": "code",
   "execution_count": null,
   "metadata": {},
   "outputs": [],
   "source": [
    "num = float(input(\"Enter a number: \"))\n",
    "\n",
    "if num >= 0:\n",
    "    if num == 0:\n",
    "        print(\"Zero\")\n",
    "    else:\n",
    "        print(\"Positive number\")\n",
    "else:\n",
    "    print(\"Negative number\")"
   ]
  },
  {
   "cell_type": "markdown",
   "metadata": {},
   "source": [
    "Nested if's "
   ]
  },
  {
   "cell_type": "code",
   "execution_count": null,
   "metadata": {},
   "outputs": [],
   "source": [
    "def letterGrade(score):\n",
    "    if score >= 90:\n",
    "        letter = 'A'\n",
    "    else:   # grade must be B, C, D or F\n",
    "        if score >= 80:\n",
    "            letter = 'B'\n",
    "        else:  # grade must be C, D or F\n",
    "            if score >= 70:\n",
    "                letter = 'C'\n",
    "            else:    # grade must D or F\n",
    "                if score >= 60:\n",
    "                    letter = 'D'\n",
    "                else:\n",
    "                    letter = 'F'\n",
    "    return letter"
   ]
  },
  {
   "cell_type": "code",
   "execution_count": null,
   "metadata": {},
   "outputs": [],
   "source": [
    "letterGrade(55)"
   ]
  },
  {
   "cell_type": "markdown",
   "metadata": {},
   "source": [
    "Same example as the one before, but using else if"
   ]
  },
  {
   "cell_type": "code",
   "execution_count": null,
   "metadata": {},
   "outputs": [],
   "source": [
    "def letterGrade(score):\n",
    "    if score >= 90:\n",
    "        letter = 'A'\n",
    "    elif score >= 80:\n",
    "        letter = 'B'\n",
    "    elif score >= 70:\n",
    "        letter = 'C'\n",
    "    elif score >= 60:\n",
    "        letter = 'D'\n",
    "    else:\n",
    "        letter = 'F'\n",
    "    return letter"
   ]
  },
  {
   "cell_type": "code",
   "execution_count": null,
   "metadata": {},
   "outputs": [],
   "source": [
    "letterGrade(55)"
   ]
  },
  {
   "cell_type": "markdown",
   "metadata": {},
   "source": [
    "### For loops"
   ]
  },
  {
   "cell_type": "code",
   "execution_count": null,
   "metadata": {},
   "outputs": [],
   "source": [
    "for i in range(0,10):\n",
    "    print(\"Printing: {}\".format(i))"
   ]
  },
  {
   "cell_type": "code",
   "execution_count": null,
   "metadata": {},
   "outputs": [],
   "source": [
    "list_example = [\"Dog\", \"Test\", 1, 3, \"Hi\", \"Leon\"]"
   ]
  },
  {
   "cell_type": "code",
   "execution_count": null,
   "metadata": {},
   "outputs": [],
   "source": [
    "for element in list_example:\n",
    "    print(\"Element printed: {}\".format(element))"
   ]
  },
  {
   "cell_type": "code",
   "execution_count": null,
   "metadata": {},
   "outputs": [],
   "source": [
    "x=0\n",
    "for i in range(0,5):\n",
    "    print(\"x value: {}, i value: {}\".format(x,i))\n",
    "    print(\"x+i = {}\".format(x+i))\n",
    "    x+=(x+i)"
   ]
  },
  {
   "cell_type": "markdown",
   "metadata": {},
   "source": [
    "### Example Time!\n",
    "\n",
    "Try doing the following, do a for loop for a variable i, so that when it reaches a certain number, it should print the following message \"Quantity is i\""
   ]
  },
  {
   "cell_type": "code",
   "execution_count": null,
   "metadata": {},
   "outputs": [],
   "source": [
    "for k in range..."
   ]
  },
  {
   "cell_type": "code",
   "execution_count": null,
   "metadata": {},
   "outputs": [],
   "source": []
  },
  {
   "cell_type": "markdown",
   "metadata": {},
   "source": [
    "Feeling ambitious? invent your own example!"
   ]
  },
  {
   "cell_type": "markdown",
   "metadata": {},
   "source": [
    "### While loops"
   ]
  },
  {
   "cell_type": "code",
   "execution_count": null,
   "metadata": {},
   "outputs": [],
   "source": [
    "temperature = int(input(\"Temperature value: \"))\n",
    "while temperature > 112: # first while loop code\n",
    "    print(temperature)\n",
    "    temperature = temperature - 1\n",
    "\n",
    "print('Temperature is cool once again!')"
   ]
  },
  {
   "cell_type": "markdown",
   "metadata": {},
   "source": [
    "Example when they could run forever"
   ]
  },
  {
   "cell_type": "code",
   "execution_count": null,
   "metadata": {},
   "outputs": [],
   "source": [
    "temperature = int(input(\"Temperature value: \"))\n",
    "while temperature > 112: # first while loop code\n",
    "    #print(temperature)\n",
    "    temperature = temperature\n",
    "\n",
    "print('Temperature is cool once again!')"
   ]
  },
  {
   "cell_type": "markdown",
   "metadata": {},
   "source": [
    "### Error handling\n"
   ]
  },
  {
   "cell_type": "code",
   "execution_count": null,
   "metadata": {},
   "outputs": [],
   "source": [
    "while True:\n",
    "    try:\n",
    "        x = int(input(\"Please enter a number: \"))\n",
    "        break\n",
    "    except ValueError as e:\n",
    "        print(\"Value error: {}\".format(e))\n",
    "        print(\"Oops!  That was no valid number.  Try again...\")"
   ]
  },
  {
   "cell_type": "code",
   "execution_count": null,
   "metadata": {
    "scrolled": true
   },
   "outputs": [],
   "source": [
    "x = 10\n",
    "while x >- 1:\n",
    "    try:\n",
    "        x = x-2\n",
    "        print(100/x)\n",
    "    except ZeroDivisionError as e:\n",
    "        print(\"Error: {}\".format(e))\n",
    "        print(\"Oops!  That was no valid number.  Try again...\")\n",
    "        break"
   ]
  },
  {
   "cell_type": "markdown",
   "metadata": {},
   "source": [
    "You can decide here what to do next, whether to go forward with some other task or stop the whole BOT"
   ]
  },
  {
   "cell_type": "markdown",
   "metadata": {},
   "source": [
    "______\n",
    "Another similar example but with For loops instead of while loops"
   ]
  },
  {
   "cell_type": "code",
   "execution_count": null,
   "metadata": {
    "scrolled": true
   },
   "outputs": [],
   "source": [
    "x=10\n",
    "for i in range(0,25):\n",
    "    try:\n",
    "        x +=-1\n",
    "        print(10/x)\n",
    "    except ZeroDivisionError as e:\n",
    "        print(\"Error: {}\".format(e))\n",
    "        break\n",
    "    "
   ]
  },
  {
   "cell_type": "markdown",
   "metadata": {},
   "source": [
    "The example from before"
   ]
  },
  {
   "cell_type": "code",
   "execution_count": null,
   "metadata": {},
   "outputs": [],
   "source": [
    "try:\n",
    "    num = int(input(\"Please enter a number: \")) # What we give as an input\n",
    "\n",
    "    if num > 0:\n",
    "        print(num, \"is a positive number.\")\n",
    "    elif num < 0:\n",
    "        print(num, \"is a negative number\")\n",
    "\n",
    "except ValueError as e:\n",
    "    print(\"Error: {}\".format(e))"
   ]
  }
 ],
 "metadata": {
  "kernelspec": {
   "display_name": "Python 3",
   "language": "python",
   "name": "python3"
  },
  "language_info": {
   "codemirror_mode": {
    "name": "ipython",
    "version": 3
   },
   "file_extension": ".py",
   "mimetype": "text/x-python",
   "name": "python",
   "nbconvert_exporter": "python",
   "pygments_lexer": "ipython3",
   "version": "3.6.0"
  }
 },
 "nbformat": 4,
 "nbformat_minor": 2
}
